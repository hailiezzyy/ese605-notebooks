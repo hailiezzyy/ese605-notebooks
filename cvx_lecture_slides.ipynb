{
 "cells": [
  {
   "cell_type": "code",
   "execution_count": 1,
   "metadata": {},
   "outputs": [
    {
     "name": "stdout",
     "output_type": "stream",
     "text": [
      "-----------------------------------------------------------------\n",
      "           OSQP v0.6.0  -  Operator Splitting QP Solver\n",
      "              (c) Bartolomeo Stellato,  Goran Banjac\n",
      "        University of Oxford  -  Stanford University 2019\n",
      "-----------------------------------------------------------------\n",
      "problem:  variables n = 8, constraints m = 16\n",
      "          nnz(P) + nnz(A) = 46\n",
      "settings: linear system solver = qdldl,\n",
      "          eps_abs = 1.0e-05, eps_rel = 1.0e-05,\n",
      "          eps_prim_inf = 1.0e-04, eps_dual_inf = 1.0e-04,\n",
      "          rho = 1.00e-01 (adaptive),\n",
      "          sigma = 1.00e-06, alpha = 1.60, max_iter = 10000\n",
      "          check_termination: on (interval 25),\n",
      "          scaling: on, scaled_termination: off\n",
      "          warm start: on, polish: on, time_limit: off\n",
      "\n",
      "iter   objective    pri res    dua res    rho        time\n",
      "   1  -3.8551e+01   1.32e+01   6.00e-01   1.00e-01   7.26e-05s\n",
      " 125   1.6971e+00   1.43e-05   1.17e-05   1.00e-01   1.46e-04s\n",
      "plsh   1.6971e+00   6.03e-17   2.40e-16   --------   1.88e-04s\n",
      "\n",
      "status:               solved\n",
      "solution polish:      successful\n",
      "number of iterations: 125\n",
      "optimal objective:    1.6971\n",
      "run time:             1.88e-04s\n",
      "optimal rho estimate: 1.41e-01\n",
      "\n",
      "optval = 1.6970825519666868, status = optimal\n"
     ]
    }
   ],
   "source": [
    "## Slide 8 Example: Constrained norm minimization\n",
    "\n",
    "import numpy as np\n",
    "import cvxpy as cp\n",
    "\n",
    "A = np.random.randn(5,3)\n",
    "b = np.random.randn(5)\n",
    "\n",
    "x = cp.Variable(3)\n",
    "\n",
    "obj = cp.Minimize(cp.norm(A @ x - b, 1))\n",
    "const = [-0.5 <= x, x <= 0.3]\n",
    "prob = cp.Problem(obj,const)\n",
    "prob.solve(verbose=True)\n",
    "print('optval = {}, status = {}'.format(prob.value,prob.status))"
   ]
  },
  {
   "cell_type": "code",
   "execution_count": 2,
   "metadata": {},
   "outputs": [
    {
     "data": {
      "text/plain": [
       "Expression(AFFINE, UNKNOWN, ())"
      ]
     },
     "execution_count": 2,
     "metadata": {},
     "output_type": "execute_result"
    }
   ],
   "source": [
    "## Other examples from later slides\n",
    "\n",
    "x, y = cp.Variable(1), cp.Variable(1)\n",
    "#z = np.hstack((x,y)) will throw an error, need to use cp.hstack\n",
    "z = cp.hstack((x,y))\n",
    "cp.sum(z)"
   ]
  },
  {
   "cell_type": "code",
   "execution_count": 3,
   "metadata": {},
   "outputs": [
    {
     "data": {
      "text/plain": [
       "Expression(CONVEX, NONNEGATIVE, (1,))"
      ]
     },
     "execution_count": 3,
     "metadata": {},
     "output_type": "execute_result"
    }
   ],
   "source": [
    "cp.square(cp.square(1+x))"
   ]
  },
  {
   "cell_type": "code",
   "execution_count": 4,
   "metadata": {},
   "outputs": [
    {
     "data": {
      "text/plain": [
       "Expression(CONVEX, NONNEGATIVE, (1,))"
      ]
     },
     "execution_count": 4,
     "metadata": {},
     "output_type": "execute_result"
    }
   ],
   "source": [
    "cp.power(x,3)"
   ]
  },
  {
   "cell_type": "code",
   "execution_count": 5,
   "metadata": {},
   "outputs": [
    {
     "data": {
      "text/plain": [
       "Expression(CONVEX, NONNEGATIVE, ())"
      ]
     },
     "execution_count": 5,
     "metadata": {},
     "output_type": "execute_result"
    }
   ],
   "source": [
    "cp.quad_over_lin(x,1-cp.square(y))"
   ]
  },
  {
   "cell_type": "code",
   "execution_count": 6,
   "metadata": {},
   "outputs": [
    {
     "data": {
      "text/plain": [
       "Expression(CONCAVE, UNKNOWN, (1,))"
      ]
     },
     "execution_count": 6,
     "metadata": {},
     "output_type": "execute_result"
    }
   ],
   "source": [
    "1-cp.square(y)"
   ]
  },
  {
   "cell_type": "code",
   "execution_count": 7,
   "metadata": {},
   "outputs": [
    {
     "data": {
      "text/plain": [
       "Expression(CONCAVE, UNKNOWN, (1,))"
      ]
     },
     "execution_count": 7,
     "metadata": {},
     "output_type": "execute_result"
    }
   ],
   "source": [
    "cp.minimum(1+2*x, 1-cp.maximum(2,y))"
   ]
  },
  {
   "cell_type": "code",
   "execution_count": 8,
   "metadata": {},
   "outputs": [
    {
     "data": {
      "text/plain": [
       "Expression(CONCAVE, UNKNOWN, (1,))"
      ]
     },
     "execution_count": 8,
     "metadata": {},
     "output_type": "execute_result"
    }
   ],
   "source": [
    "cp.sqrt(y) - 4.55 * cp.inv_pos(x-y)"
   ]
  },
  {
   "cell_type": "code",
   "execution_count": 9,
   "metadata": {},
   "outputs": [
    {
     "data": {
      "text/plain": [
       "Expression(UNKNOWN, UNKNOWN, (1,))"
      ]
     },
     "execution_count": 9,
     "metadata": {},
     "output_type": "execute_result"
    }
   ],
   "source": [
    "cp.square(x) - cp.square(y)"
   ]
  },
  {
   "cell_type": "code",
   "execution_count": 10,
   "metadata": {},
   "outputs": [
    {
     "data": {
      "text/plain": [
       "Expression(QUASICONVEX, NONNEGATIVE, ())"
      ]
     },
     "execution_count": 10,
     "metadata": {},
     "output_type": "execute_result"
    }
   ],
   "source": [
    "cp.sqrt(cp.sum_squares(z))"
   ]
  },
  {
   "cell_type": "code",
   "execution_count": 11,
   "metadata": {},
   "outputs": [
    {
     "data": {
      "text/plain": [
       "Expression(CONVEX, NONNEGATIVE, ())"
      ]
     },
     "execution_count": 11,
     "metadata": {},
     "output_type": "execute_result"
    }
   ],
   "source": [
    "cp.sum_squares(z)"
   ]
  },
  {
   "cell_type": "code",
   "execution_count": 12,
   "metadata": {},
   "outputs": [
    {
     "data": {
      "text/plain": [
       "Expression(CONVEX, NONNEGATIVE, ())"
      ]
     },
     "execution_count": 12,
     "metadata": {},
     "output_type": "execute_result"
    }
   ],
   "source": [
    "cp.norm(z,2)"
   ]
  },
  {
   "cell_type": "code",
   "execution_count": 13,
   "metadata": {},
   "outputs": [
    {
     "data": {
      "text/plain": [
       "Expression(CONVEX, NONNEGATIVE, (1,))"
      ]
     },
     "execution_count": 13,
     "metadata": {},
     "output_type": "execute_result"
    }
   ],
   "source": [
    "cp.square(1 + x ** 2)"
   ]
  },
  {
   "cell_type": "code",
   "execution_count": 14,
   "metadata": {},
   "outputs": [
    {
     "name": "stdout",
     "output_type": "stream",
     "text": [
      "NONNEGATIVE\n"
     ]
    }
   ],
   "source": [
    "print((1 + x ** 2).sign)"
   ]
  },
  {
   "cell_type": "code",
   "execution_count": 15,
   "metadata": {},
   "outputs": [
    {
     "name": "stdout",
     "output_type": "stream",
     "text": [
      "\n",
      "\n",
      "Problem\n",
      "  Name                   :                 \n",
      "  Objective sense        : min             \n",
      "  Type                   : CONIC (conic optimization problem)\n",
      "  Constraints            : 206             \n",
      "  Cones                  : 1               \n",
      "  Scalar variables       : 76              \n",
      "  Matrix variables       : 2               \n",
      "  Integer variables      : 0               \n",
      "\n",
      "Optimizer started.\n",
      "Problem\n",
      "  Name                   :                 \n",
      "  Objective sense        : min             \n",
      "  Type                   : CONIC (conic optimization problem)\n",
      "  Constraints            : 206             \n",
      "  Cones                  : 1               \n",
      "  Scalar variables       : 76              \n",
      "  Matrix variables       : 2               \n",
      "  Integer variables      : 0               \n",
      "\n",
      "Optimizer  - threads                : 16              \n",
      "Optimizer  - solved problem         : the primal      \n",
      "Optimizer  - Constraints            : 126\n",
      "Optimizer  - Cones                  : 2\n",
      "Optimizer  - Scalar variables       : 19                conic                  : 18              \n",
      "Optimizer  - Semi-definite variables: 2                 scalarized             : 70              \n",
      "Factor     - setup time             : 0.00              dense det. time        : 0.00            \n",
      "Factor     - ML order time          : 0.00              GP order time          : 0.00            \n",
      "Factor     - nonzeros before factor : 6490              after factor           : 6674            \n",
      "Factor     - dense dim.             : 0                 flops                  : 4.86e+05        \n",
      "ITE PFEAS    DFEAS    GFEAS    PRSTATUS   POBJ              DOBJ              MU       TIME  \n",
      "0   1.1e+01  5.0e+00  1.0e+00  0.00e+00   0.000000000e+00   0.000000000e+00   1.0e+00  0.00  \n",
      "1   1.9e+00  9.0e-01  4.1e-01  -1.04e+00  5.301345454e-01   4.737606410e+00   1.8e-01  0.01  \n",
      "2   2.8e-01  1.3e-01  6.6e-02  -4.57e-01  8.131353398e+00   1.385459938e+01   2.7e-02  0.02  \n",
      "3   4.1e-02  1.9e-02  3.1e-03  8.41e-01   3.490548598e+00   4.098399934e+00   3.9e-03  0.02  \n",
      "4   1.8e-03  8.7e-04  3.1e-05  1.07e+00   1.779753168e+00   1.809405348e+00   1.7e-04  0.02  \n",
      "5   4.3e-05  2.0e-05  1.2e-07  9.65e-01   1.717823195e+00   1.718661815e+00   4.0e-06  0.02  \n",
      "6   5.8e-07  2.8e-07  1.9e-10  9.97e-01   1.715776685e+00   1.715788346e+00   5.5e-08  0.02  \n",
      "7   1.3e-08  6.1e-09  6.3e-13  1.00e+00   1.715741183e+00   1.715741439e+00   1.2e-09  0.02  \n",
      "8   4.6e-10  2.2e-10  4.3e-15  1.00e+00   1.715740462e+00   1.715740471e+00   4.4e-11  0.02  \n",
      "Optimizer terminated. Time: 0.03    \n",
      "\n",
      "\n",
      "Interior-point solution summary\n",
      "  Problem status  : PRIMAL_AND_DUAL_FEASIBLE\n",
      "  Solution status : OPTIMAL\n",
      "  Primal.  obj: 1.7157404616e+00    nrm: 2e+01    Viol.  con: 6e-09    var: 0e+00    barvar: 0e+00    cones: 0e+00  \n",
      "  Dual.    obj: 1.7157404707e+00    nrm: 5e+00    Viol.  con: 0e+00    var: 3e-10    barvar: 5e-10    cones: 0e+00  \n",
      "(Xopt,yopt) = ([[ 7.93207634  1.27574025  3.02631836  0.412651   -2.02830245]\n",
      " [ 1.27574025 13.16447023 -1.3786012   1.02200862  3.84642004]\n",
      " [ 3.02631836 -1.3786012   7.90513541 -0.36675663  2.19184464]\n",
      " [ 0.412651    1.02200862 -0.36675663  6.37867088 -1.6248732 ]\n",
      " [-2.02830245  3.84642004  2.19184464 -1.6248732   9.46822806]],[1.92321002]), optval = 1.7157404615945477, status = optimal\n"
     ]
    }
   ],
   "source": [
    "## Slide 19: More invovled example\n",
    "\n",
    "A = np.random.randn(5)\n",
    "A = np.outer(A,A)\n",
    "\n",
    "X = cp.Variable((5,5), symmetric=True)\n",
    "y = cp.Variable(1)\n",
    "\n",
    "obj = cp.Minimize(cp.norm(X) - 10 * cp.sqrt(y))\n",
    "\n",
    "const = [X - A >> 0,\n",
    "        X[1,4] == 2 * y,\n",
    "        X[2,0] >= 0.8,\n",
    "        y <= 4]\n",
    "\n",
    "prob = cp.Problem(obj,const)\n",
    "\n",
    "prob.solve(verbose=True)\n",
    "print('(Xopt,yopt) = ({},{}), optval = {}, status = {}'.format(X.value,y.value,prob.value,prob.status))"
   ]
  },
  {
   "cell_type": "code",
   "execution_count": 16,
   "metadata": {},
   "outputs": [
    {
     "data": {
      "text/plain": [
       "array(11.)"
      ]
     },
     "execution_count": 16,
     "metadata": {},
     "output_type": "execute_result"
    }
   ],
   "source": [
    "def deadzone(x):\n",
    "    return cp.maximum(cp.abs(x)-1,0)\n",
    "\n",
    "deadzone(12).value"
   ]
  },
  {
   "cell_type": "code",
   "execution_count": 17,
   "metadata": {},
   "outputs": [
    {
     "name": "stdout",
     "output_type": "stream",
     "text": [
      "\n",
      "\n",
      "Problem\n",
      "  Name                   :                 \n",
      "  Objective sense        : min             \n",
      "  Type                   : CONIC (conic optimization problem)\n",
      "  Constraints            : 207             \n",
      "  Cones                  : 0               \n",
      "  Scalar variables       : 74              \n",
      "  Matrix variables       : 2               \n",
      "  Integer variables      : 0               \n",
      "\n",
      "Optimizer started.\n",
      "Problem\n",
      "  Name                   :                 \n",
      "  Objective sense        : min             \n",
      "  Type                   : CONIC (conic optimization problem)\n",
      "  Constraints            : 207             \n",
      "  Cones                  : 0               \n",
      "  Scalar variables       : 74              \n",
      "  Matrix variables       : 2               \n",
      "  Integer variables      : 0               \n",
      "\n",
      "Optimizer  - threads                : 16              \n",
      "Optimizer  - solved problem         : the primal      \n",
      "Optimizer  - Constraints            : 127\n",
      "Optimizer  - Cones                  : 1\n",
      "Optimizer  - Scalar variables       : 20                conic                  : 15              \n",
      "Optimizer  - Semi-definite variables: 2                 scalarized             : 70              \n",
      "Factor     - setup time             : 0.00              dense det. time        : 0.00            \n",
      "Factor     - ML order time          : 0.00              GP order time          : 0.00            \n",
      "Factor     - nonzeros before factor : 6498              after factor           : 6682            \n",
      "Factor     - dense dim.             : 0                 flops                  : 4.86e+05        \n",
      "ITE PFEAS    DFEAS    GFEAS    PRSTATUS   POBJ              DOBJ              MU       TIME  \n",
      "0   7.0e+00  8.0e+00  1.0e+00  0.00e+00   0.000000000e+00   0.000000000e+00   1.0e+00  0.00  \n",
      "1   1.6e+00  1.8e+00  3.8e-01  -7.96e-01  1.373892514e+01   1.584648815e+01   2.2e-01  0.01  \n",
      "2   2.8e-01  3.2e-01  5.7e-02  -2.10e-01  1.065296497e+01   1.246202549e+01   4.0e-02  0.01  \n",
      "3   6.2e-02  7.1e-02  4.5e-03  8.56e-01   7.271622468e+00   7.485266474e+00   8.8e-03  0.02  \n",
      "4   1.4e-02  1.6e-02  4.5e-04  1.16e+00   6.899276008e+00   6.941101790e+00   2.0e-03  0.02  \n",
      "5   5.3e-05  6.0e-05  8.2e-08  1.00e+00   6.768094402e+00   6.768170179e+00   7.6e-06  0.02  \n",
      "6   5.0e-07  5.7e-07  7.6e-11  1.00e+00   6.768111613e+00   6.768112358e+00   7.2e-08  0.02  \n",
      "7   4.2e-08  4.8e-08  1.9e-12  9.96e-01   6.768108897e+00   6.768108960e+00   6.0e-09  0.02  \n",
      "8   1.8e-09  2.0e-09  1.6e-14  9.97e-01   6.768108309e+00   6.768108311e+00   2.6e-10  0.02  \n",
      "Optimizer terminated. Time: 0.03    \n",
      "\n",
      "\n",
      "Interior-point solution summary\n",
      "  Problem status  : PRIMAL_AND_DUAL_FEASIBLE\n",
      "  Solution status : OPTIMAL\n",
      "  Primal.  obj: 6.7681083086e+00    nrm: 7e+00    Viol.  con: 8e-09    var: 0e+00    barvar: 0e+00  \n",
      "  Dual.    obj: 6.7681083111e+00    nrm: 2e+00    Viol.  con: 1e-09    var: 1e-09    barvar: 1e-09  \n",
      "(Xopt,yopt) = ([[ 3.21960466e+00  1.33080426e-01  1.73038682e+00  1.89088633e-03\n",
      "   4.09134761e-01]\n",
      " [ 1.33080426e-01  6.58931705e+00 -5.54241420e-01  2.70175583e-02\n",
      "   1.17791537e-01]\n",
      " [ 1.73038682e+00 -5.54241420e-01  3.32511526e+00 -7.09299842e-03\n",
      "  -4.70546448e-01]\n",
      " [ 1.89088633e-03  2.70175583e-02 -7.09299842e-03  2.82597568e+00\n",
      "   3.45712210e-02]\n",
      " [ 4.09134761e-01  1.17791537e-01 -4.70546448e-01  3.45712210e-02\n",
      "   6.27490041e+00]],[0.05889577]), optval = 6.768108308563128, status = optimal\n"
     ]
    }
   ],
   "source": [
    "## Slide 19: More invovled example\n",
    "\n",
    "A = np.random.randn(5)\n",
    "A = np.outer(A,A)\n",
    "\n",
    "X = cp.Variable((5,5), symmetric=True)\n",
    "y = cp.Variable(1)\n",
    "\n",
    "obj = cp.Minimize(cp.norm(X) + deadzone(-10 * y))\n",
    "\n",
    "const = [X - A >> 0,\n",
    "        X[1,4] == 2 * y,\n",
    "        X[2,0] >= 0.8,\n",
    "        y <= 4]\n",
    "\n",
    "prob = cp.Problem(obj,const)\n",
    "\n",
    "prob.solve(verbose=True)\n",
    "print('(Xopt,yopt) = ({},{}), optval = {}, status = {}'.format(X.value,y.value,prob.value,prob.status))"
   ]
  },
  {
   "cell_type": "code",
   "execution_count": 21,
   "metadata": {},
   "outputs": [],
   "source": [
    "import matplotlib.pyplot as plt\n",
    "\n",
    "xs = np.linspace(0,5,num=100)\n",
    "f = xs + xs ** 1.5 + xs ** 2.5\n",
    "\n",
    "\n",
    "\n",
    "t = cp.Variable(1)\n",
    "y = cp.Parameter()\n",
    "\n",
    "obj = cp.Maximize(t)\n",
    "const = [cp.pos(t) + cp.pos(t) ** 1.5 + cp.pos(t) ** 2.5 <= y]\n",
    "prob = cp.Problem(obj,const)\n",
    "\n",
    "g = []\n",
    "for this_y in xs:\n",
    "    y.value = this_y\n",
    "    g.append(prob.solve())\n",
    "\n"
   ]
  },
  {
   "cell_type": "code",
   "execution_count": 32,
   "metadata": {},
   "outputs": [
    {
     "data": {
      "text/plain": [
       "Text(0.5, 1.0, '$g(x)=f^{-1}(x)$')"
      ]
     },
     "execution_count": 32,
     "metadata": {},
     "output_type": "execute_result"
    },
    {
     "data": {
      "image/png": "[encoded data removed]",
      "text/plain": [
       "<Figure size 360x720 with 2 Axes>"
      ]
     },
     "metadata": {
      "needs_background": "light"
     },
     "output_type": "display_data"
    }
   ],
   "source": [
    "# What do f(x) and g = f^{-1} look like\n",
    "# It doesn't seem as though CVXPY supports defining\n",
    "# functions as partially specified optimization problems\n",
    "# whereas CVX in Matlab does\n",
    "\n",
    "plt.rc('text', usetex = False)\n",
    "plt.rc('font', family = 'serif')\n",
    "plt.figure(figsize=(5,10))\n",
    "\n",
    "plt.subplot(211)\n",
    "plt.plot(xs,f)\n",
    "plt.title(r'$f(x)$')\n",
    "\n",
    "plt.subplot(212)\n",
    "plt.plot(xs,g,'r')\n",
    "plt.title(r'$g(x)=f^{-1}(x)$')\n"
   ]
  },
  {
   "cell_type": "code",
   "execution_count": null,
   "metadata": {},
   "outputs": [],
   "source": []
  }
 ],
 "metadata": {
  "kernelspec": {
   "display_name": "Python 3",
   "language": "python",
   "name": "python3"
  },
  "language_info": {
   "codemirror_mode": {
    "name": "ipython",
    "version": 3
   },
   "file_extension": ".py",
   "mimetype": "text/x-python",
   "name": "python",
   "nbconvert_exporter": "python",
   "pygments_lexer": "ipython3",
   "version": "3.7.3"
  }
 },
 "nbformat": 4,
 "nbformat_minor": 4
}
