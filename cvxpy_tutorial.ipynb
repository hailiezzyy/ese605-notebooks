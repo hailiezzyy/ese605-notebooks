{
 "cells": [
  {
   "cell_type": "markdown",
   "metadata": {},
   "source": [
    "# Getting started with CVXPY\n",
    "The following is adapted from https://www.cvxpy.org/tutorial/intro/index.html. \n",
    "\n",
    "The code below solves a simple optimization problem in CVXPY.  First, we import the cvxpy module:"
   ]
  },
  {
   "cell_type": "code",
   "execution_count": 1,
   "metadata": {},
   "outputs": [],
   "source": [
    "import cvxpy as cp"
   ]
  },
  {
   "cell_type": "markdown",
   "metadata": {},
   "source": [
    "Next we create two scalar optimization variables $x$ and $y$ by calling ```cp.Variable()```"
   ]
  },
  {
   "cell_type": "code",
   "execution_count": 2,
   "metadata": {},
   "outputs": [],
   "source": [
    "# Create two scalar optimization variables.\n",
    "x = cp.Variable()\n",
    "y = cp.Variable()"
   ]
  },
  {
   "cell_type": "markdown",
   "metadata": {},
   "source": [
    "Now that we have optimization variables, we can add constraints.  CVXPY allows you to write constraints as you would naturally in an optimization problem, and store them in an array."
   ]
  },
  {
   "cell_type": "code",
   "execution_count": 3,
   "metadata": {},
   "outputs": [],
   "source": [
    "# Create two constraints.\n",
    "constraints = [x + y == 1,\n",
    "               x - y >= 1]"
   ]
  },
  {
   "cell_type": "markdown",
   "metadata": {},
   "source": [
    "Similarly, we can define an objective function.  We can either minimize or maximize an expression defined in terms of the optimization variables by calling ```cp.Minimize(f(x))``` or ```cp.Maximize(f(x))```"
   ]
  },
  {
   "cell_type": "code",
   "execution_count": 4,
   "metadata": {},
   "outputs": [],
   "source": [
    "# Form objective.\n",
    "obj = cp.Minimize((x - y)**2)"
   ]
  },
  {
   "cell_type": "markdown",
   "metadata": {},
   "source": [
    "Now that we have variables, constraints, and an objective, it is time to form the problem, and solve it.  To do so, we call ```cp.Problem(obj,constraints)``` to form the problem, and then ```prob.solve()``` to actually solve it.  The status of the problem is stored in ```prob.status```, which will be _optimal_ if the problem was solved successfully, _infeasible_ if the problem is infeasible, _unbounded_ if the problem is unbounded, or _inaccurate_ if numerical issues were encountered.  The optimal value can be obtained by querying ```prob.value``` and the optimal values of $x$ and $y$ by querying ```x.value``` and ```y.value``` respectively."
   ]
  },
  {
   "cell_type": "code",
   "execution_count": 5,
   "metadata": {},
   "outputs": [
    {
     "name": "stdout",
     "output_type": "stream",
     "text": [
      "status: optimal\n",
      "optimal value 1.0\n",
      "optimal var x: 1.0, optimal var y: 1.570086213240983e-22\n"
     ]
    }
   ],
   "source": [
    "# Form and solve problem.\n",
    "prob = cp.Problem(obj, constraints)\n",
    "prob.solve()  # Returns the optimal value.\n",
    "print(\"status:\", prob.status)\n",
    "print(\"optimal value\", prob.value)\n",
    "print(\"optimal var x: {}, optimal var y: {}\".format(x.value, y.value))"
   ]
  },
  {
   "cell_type": "markdown",
   "metadata": {},
   "source": [
    "The status, which was assigned a value “optimal” by the solve method, tells us the problem was solved successfully. The optimal value (basically 1 here) is the minimum value of the objective over all choices of variables that satisfy the constraints. The last thing printed gives values of $x$ and $y$ (basically 1 and 0 respectively) that achieve the optimal objective."
   ]
  },
  {
   "cell_type": "markdown",
   "metadata": {},
   "source": [
    "# Changing the problem\n",
    "\n",
    "*Problems* are immutable, meaning they cannot be changed after they are created.  To change the objective or constraints, create a new problem."
   ]
  },
  {
   "cell_type": "code",
   "execution_count": 6,
   "metadata": {},
   "outputs": [
    {
     "name": "stdout",
     "output_type": "stream",
     "text": [
      "optimal value 1.0000000017629223\n"
     ]
    }
   ],
   "source": [
    "# Replace the objective.\n",
    "prob2 = cp.Problem(cp.Maximize(x + y), prob.constraints)\n",
    "print(\"optimal value\", prob2.solve())"
   ]
  },
  {
   "cell_type": "code",
   "execution_count": 7,
   "metadata": {},
   "outputs": [
    {
     "name": "stdout",
     "output_type": "stream",
     "text": [
      "optimal value 2.9999999970750015\n"
     ]
    }
   ],
   "source": [
    "# Replace the constraint (x + y == 1).\n",
    "constraints = [x + y <= 3] + prob2.constraints[1:]\n",
    "prob3 = cp.Problem(prob2.objective, constraints)\n",
    "print(\"optimal value\", prob3.solve())"
   ]
  },
  {
   "cell_type": "markdown",
   "metadata": {},
   "source": [
    "# Infeasible and unbounded problems\n",
    "\n",
    "If a problem is infeasible or unbounded, the status field will be set to “infeasible” or “unbounded”, respectively. The value fields of the problem variables are not updated."
   ]
  },
  {
   "cell_type": "code",
   "execution_count": 8,
   "metadata": {},
   "outputs": [
    {
     "name": "stdout",
     "output_type": "stream",
     "text": [
      "status: infeasible\n",
      "optimal value inf\n"
     ]
    }
   ],
   "source": [
    "x = cp.Variable()\n",
    "\n",
    "# An infeasible problem.\n",
    "prob = cp.Problem(cp.Minimize(x), [x >= 1, x <= 0])\n",
    "prob.solve()\n",
    "print(\"status:\", prob.status)\n",
    "print(\"optimal value\", prob.value)"
   ]
  },
  {
   "cell_type": "code",
   "execution_count": 9,
   "metadata": {},
   "outputs": [
    {
     "name": "stdout",
     "output_type": "stream",
     "text": [
      "status: unbounded\n",
      "optimal value -inf\n"
     ]
    }
   ],
   "source": [
    "# An unbounded problem.\n",
    "prob = cp.Problem(cp.Minimize(x))\n",
    "prob.solve()\n",
    "print(\"status:\", prob.status)\n",
    "print(\"optimal value\", prob.value)"
   ]
  },
  {
   "cell_type": "markdown",
   "metadata": {},
   "source": [
    "Notice that for a minimization problem the optimal value is ```inf``` if infeasible and ```-inf``` if unbounded. For maximization problems the opposite is true."
   ]
  },
  {
   "cell_type": "markdown",
   "metadata": {},
   "source": [
    "# Other problem statuses\n",
    "\n",
    "If the solver called by CVXPY solves the problem but to a lower accuracy than desired, the problem status indicates the lower accuracy achieved. The statuses indicating lower accuracy are\n",
    "\n",
    "- “optimal_inaccurate”\n",
    "\n",
    "- “unbounded_inaccurate”\n",
    "\n",
    "- “infeasible_inaccurate”\n",
    "\n",
    "The problem variables are updated as usual for the type of solution found (i.e., optimal, unbounded, or infeasible).\n",
    "\n",
    "If the solver completely fails to solve the problem, CVXPY throws a ```SolverError``` exception. If this happens you should try using other solvers. See the discussion of [Choosing a solver for details](https://www.cvxpy.org/tutorial/advanced/index.html#solvers).\n",
    "\n",
    "CVXPY provides the following constants as aliases for the different status strings:\n",
    "\n",
    "- ```OPTIMAL```\n",
    "- ```INFEASIBLE```\n",
    "- ```UNBOUNDED```\n",
    "- ```OPTIMAL_INACCURATE```\n",
    "- ```INFEASIBLE_INACCURATE```\n",
    "- ```UNBOUNDED_INACCURATE```\n",
    "\n",
    "For example, to test if a problem was solved successfully, you would use\n",
    "\n",
    "```prob.status == OPTIMAL```"
   ]
  },
  {
   "cell_type": "markdown",
   "metadata": {},
   "source": [
    "# Vectors and matrices\n",
    "\n",
    "*Variables* can be scalars, vectors, or matrices, meaning they are 0, 1, or 2 dimensional."
   ]
  },
  {
   "cell_type": "code",
   "execution_count": 10,
   "metadata": {},
   "outputs": [],
   "source": [
    "# A scalar variable.\n",
    "a = cp.Variable()\n",
    "\n",
    "# Vector variable with shape (5,).\n",
    "x = cp.Variable(5)\n",
    "\n",
    "# Matrix variable with shape (5, 1).\n",
    "x = cp.Variable((5, 1))\n",
    "\n",
    "# Matrix variable with shape (4, 7).\n",
    "A = cp.Variable((4, 7))"
   ]
  },
  {
   "cell_type": "markdown",
   "metadata": {},
   "source": [
    "You can use your numeric library of choice to construct matrix and vector constants. For instance, if ```x``` is a CVXPY Variable in the expression ```A @ x + b```, ```A``` and ```b``` could be Numpy ndarrays, SciPy sparse matrices, etc. ```A``` and ```b``` could even be different types.\n",
    "\n",
    "Currently the following types may be used as constants:\n",
    "\n",
    "- NumPy ndarrays \n",
    "- NumPy matrices\n",
    "- SciPy sparse matrices\n",
    "\n",
    "Here’s an example of a CVXPY problem with vectors and matrices to solve a bounded least-squares problem using NumPy:"
   ]
  },
  {
   "cell_type": "code",
   "execution_count": 11,
   "metadata": {},
   "outputs": [],
   "source": [
    "# import modules\n",
    "import cvxpy as cp\n",
    "import numpy as np"
   ]
  },
  {
   "cell_type": "code",
   "execution_count": 12,
   "metadata": {},
   "outputs": [],
   "source": [
    "# setup problem data\n",
    "\n",
    "# set up matrix dimensions: A \\in R^{m by n}, b \\in R^m\n",
    "m = 10\n",
    "n = 5\n",
    "\n",
    "# fix random seed for reproducibility\n",
    "np.random.seed(1)\n",
    "\n",
    "# generate problem data\n",
    "A = np.random.randn(m,n)\n",
    "b = np.random.randn(m)"
   ]
  },
  {
   "cell_type": "code",
   "execution_count": 13,
   "metadata": {},
   "outputs": [
    {
     "name": "stdout",
     "output_type": "stream",
     "text": [
      "Optimal value: 4.141338603672535\n",
      "Optimal variable x: [-4.95922264e-21  6.07571976e-21  1.34643668e-01  1.24976681e-01\n",
      " -4.57130806e-21]\n"
     ]
    }
   ],
   "source": [
    "# construct the problem\n",
    "\n",
    "# declare optimization variable x \\in R^n\n",
    "x = cp.Variable(n)\n",
    "\n",
    "# setup least-squares objective\n",
    "objective = cp.Minimize(cp.sum_squares(A @ x - b)) \n",
    "# note for those new to python that A @ x = A.dot(x) = matrix-vector multiplication\n",
    "\n",
    "# setup constraints, 0 <= x <= 1\n",
    "constraints = [0<=x, x<= 1]\n",
    "\n",
    "# build the problem\n",
    "problem = cp.Problem(objective, constraints)\n",
    "\n",
    "# solve the problem and print out the results\n",
    "\n",
    "print(\"Optimal value: {}\".format(problem.solve()))\n",
    "print(\"Optimal variable x: {}\".format(x.value)) # A NumPy ndarray"
   ]
  },
  {
   "cell_type": "markdown",
   "metadata": {},
   "source": [
    "# Constraints\n",
    "\n",
    "As shown in the example code, you can use ```==```, ```<=```, and ```>=``` to construct constraints in CVXPY. Equality and inequality constraints are elementwise, whether they involve scalars, vectors, or matrices. For example, together the constraints ```0 <= x``` and ```x <= 1``` mean that every entry of ```x``` is between 0 and 1.\n",
    "\n",
    "If you want matrix inequalities that represent semi-definite cone constraints, see [Semidefinite matrices](https://www.cvxpy.org/tutorial/advanced/index.html#semidefinite). The section explains how to express a semi-definite cone inequality.\n",
    "\n",
    "You cannot construct inequalities with ```<``` and ```>```. Strict inequalities don’t make sense in a real world setting. Also, you cannot chain constraints together, e.g., ```0 <= x <= 1``` or ```x == y == 2```. The Python interpreter treats chained constraints in such a way that CVXPY cannot capture them. CVXPY will raise an exception if you write a chained constraint."
   ]
  },
  {
   "cell_type": "markdown",
   "metadata": {},
   "source": [
    "# Parameters\n",
    "\n",
    "*Parameters* are symbolic representations of constants. The purpose of parameters is to change the value of a constant in a problem without reconstructing the entire problem. In many cases, solving a parametrized program multiple times can be substantially faster than repeatedly solving a new problem (see [Disciplined Parametrized Programming](https://www.cvxpy.org/tutorial/advanced/index.html#dpp)).\n",
    "\n",
    "Parameters can be vectors or matrices, just like variables. When you create a parameter you have the option of specifying attributes such as the sign of the parameter’s entries, whether the parameter is symmetric, etc. These attributes are used in [Disciplined Convex Programming](https://www.cvxpy.org/tutorial/dcp/index.html#dcp) and are unknown unless specified. Parameters can be assigned a constant value any time after they are created. The constant value must have the same dimensions and attributes as those specified when the parameter was created."
   ]
  },
  {
   "cell_type": "code",
   "execution_count": 14,
   "metadata": {},
   "outputs": [
    {
     "name": "stdout",
     "output_type": "stream",
     "text": [
      "unassigned parameter m: None\n"
     ]
    }
   ],
   "source": [
    "# Positive scalar parameter.\n",
    "m = cp.Parameter(nonneg=True)\n",
    "print(\"unassigned parameter m: {}\".format(m.value))"
   ]
  },
  {
   "cell_type": "code",
   "execution_count": 15,
   "metadata": {},
   "outputs": [
    {
     "name": "stdout",
     "output_type": "stream",
     "text": [
      "unassigned parameter c: None\n"
     ]
    }
   ],
   "source": [
    "# Column vector parameter with unknown sign (by default).\n",
    "c = cp.Parameter(5)\n",
    "print(\"unassigned parameter c: {}\".format(c.value))"
   ]
  },
  {
   "cell_type": "code",
   "execution_count": 16,
   "metadata": {},
   "outputs": [
    {
     "name": "stdout",
     "output_type": "stream",
     "text": [
      "unassigned parameter G: None\n"
     ]
    }
   ],
   "source": [
    "# Matrix parameter with negative entries.\n",
    "G = cp.Parameter((4, 7), nonpos=True)\n",
    "print(\"unassigned parameter G: {}\".format(G.value))"
   ]
  },
  {
   "cell_type": "code",
   "execution_count": 17,
   "metadata": {},
   "outputs": [
    {
     "name": "stdout",
     "output_type": "stream",
     "text": [
      "assigned parameter G: \n",
      " [[-1. -1. -1. -1. -1. -1. -1.]\n",
      " [-1. -1. -1. -1. -1. -1. -1.]\n",
      " [-1. -1. -1. -1. -1. -1. -1.]\n",
      " [-1. -1. -1. -1. -1. -1. -1.]]\n"
     ]
    }
   ],
   "source": [
    "# Assigns a constant value to G.\n",
    "G.value = -np.ones((4, 7))\n",
    "print(\"assigned parameter G: \\n {}\".format(G.value))"
   ]
  },
  {
   "cell_type": "markdown",
   "metadata": {},
   "source": [
    "You can initialize a parameter with a value. The following code segments are equivalent:"
   ]
  },
  {
   "cell_type": "code",
   "execution_count": 18,
   "metadata": {},
   "outputs": [
    {
     "name": "stdout",
     "output_type": "stream",
     "text": [
      "rho assigned value of: 2\n"
     ]
    }
   ],
   "source": [
    "# Create parameter, then assign value.\n",
    "rho = cp.Parameter(nonneg=True)\n",
    "rho.value = 2\n",
    "print(\"rho assigned value of: {}\".format(rho.value))"
   ]
  },
  {
   "cell_type": "code",
   "execution_count": 19,
   "metadata": {},
   "outputs": [
    {
     "name": "stdout",
     "output_type": "stream",
     "text": [
      "rho assigned value of: 2\n"
     ]
    }
   ],
   "source": [
    "# Initialize parameter with a value.\n",
    "rho = cp.Parameter(nonneg=True, value=2)\n",
    "print(\"rho assigned value of: {}\".format(rho.value))"
   ]
  },
  {
   "cell_type": "markdown",
   "metadata": {},
   "source": [
    "# Computing trade-off curves\n",
    "\n",
    "Computing trade-off curves is a common use of parameters.  The example below computes a trade-off curve for a LASSO problem.  The LASSO problem seeks to find sparse solutions to an under-determined least-squares problem by adding an $\\ell_1$-regularizer to the problem.  The $\\ell_1$-norm can be viewed as the tightest convex relaxation of the so-called $\\ell_0$-\"norm\", which counts the nonzero elements of a vector $x$, which is neither a norm, nor is it convex.\n",
    "\n",
    "For more information on the LASSO problem (which we will see more of later in the class), the following are good references:\n",
    "\n",
    "- [Regression Shrinkage and Selection via the Lasso](https://rss.onlinelibrary.wiley.com/doi/pdf/10.1111/j.2517-6161.1996.tb02080.x?casa_token=wM09Jx4u7X4AAAAA%3AkyRemlYlomipEuCWiV5cJ25EwSfnXgso0Le-j3yw2F1mLXhNBDGolKQ1ZaqKbqpriIzzpMaxBoRT1QGi), R. Tibshirani, 1996.\n",
    "- [For Most Large Underdetermined Systems of Equations, the Minimal $\\ell_1$-norm Near-Solution Approximates the Sparsest Near-Solution](https://onlinelibrary.wiley.com/doi/pdf/10.1002/cpa.20131?casa_token=p7m9o64qjooAAAAA:TenBYUBnKREPBiQJr-H5AjiXXgHaOpwMpbZDfW54V9UmM5Wf3okWAEtPCu9SoW0Y9JX8koK8sYifs-Mq), D. Donoho, 2006.\n",
    "- [The Convex Geometry of Linear Inverse Problems](https://arxiv.org/abs/1012.0621), Chandrasekaran, Recht, Parrilo, and Willsky, 2012"
   ]
  },
  {
   "cell_type": "code",
   "execution_count": 1,
   "metadata": {},
   "outputs": [],
   "source": [
    "# import modules\n",
    "import cvxpy as cp\n",
    "import numpy as np\n",
    "import matplotlib.pyplot as plt # Matlab like plotting functionality"
   ]
  },
  {
   "cell_type": "code",
   "execution_count": 2,
   "metadata": {},
   "outputs": [
    {
     "name": "stdout",
     "output_type": "stream",
     "text": [
      "The nonzero elements of x are [21 34 44 59 93]\n",
      "The values of these nonzero elements are [ 1.50440212  1.56026748  0.3849555  -0.3209712   0.31396613]\n"
     ]
    }
   ],
   "source": [
    "# setup problem data\n",
    "\n",
    "# an underdetermined problem with A \\in R^{m by n}, b \\in R^m\n",
    "# with a k nonzero solution, i.e. Ax = b, with card(x) = k\n",
    "m = 40\n",
    "n = 100\n",
    "k = 5\n",
    "\n",
    "# set random seed for reproducibility\n",
    "np.random.seed(1)\n",
    "A = np.random.randn(m,n)\n",
    "\n",
    "# pick 5 columns of A at random from which to construct the solution b\n",
    "idx = np.sort(np.random.choice(100,5))\n",
    "sparse_x = np.random.randn(5)\n",
    "b = A[:,idx] @ sparse_x\n",
    "\n",
    "print(\"The nonzero elements of x are {}\".format(idx))\n",
    "print(\"The values of these nonzero elements are {}\".format(sparse_x))\n",
    "\n",
    "# build the large full dimensional version of x for comparison later\n",
    "nonsparse_x = np.zeros(n)\n",
    "nonsparse_x[idx] = sparse_x"
   ]
  },
  {
   "cell_type": "code",
   "execution_count": 3,
   "metadata": {},
   "outputs": [],
   "source": [
    "# Construct the problem\n",
    "\n",
    "# setup the full (dense) optimization variable x \\in R^n\n",
    "x = cp.Variable(n)\n",
    "\n",
    "# define the least-squares term of objective\n",
    "least_squares = cp.sum_squares(A @ x - b)\n",
    "\n",
    "# define the l1-regularizer in terms of a parameter gamma that \n",
    "# we will vary to generate our tradeoff curve\n",
    "gamma = cp.Parameter(nonneg=True) # gamma >=0 to satisfy DCP rules\n",
    "ell_one = gamma*cp.norm(x,1)\n",
    "\n",
    "# define objective function as sum of least-squares and l1 regularizer\n",
    "obj = cp.Minimize(least_squares + ell_one)\n",
    "\n",
    "# build problem (no constraints here)\n",
    "prob = cp.Problem(obj)"
   ]
  },
  {
   "cell_type": "code",
   "execution_count": 12,
   "metadata": {},
   "outputs": [
    {
     "data": {
      "image/png": "[encoded data removed]",
      "text/plain": [
       "<Figure size 432x1080 with 2 Axes>"
      ]
     },
     "metadata": {
      "needs_background": "light"
     },
     "output_type": "display_data"
    }
   ],
   "source": [
    "# Now we will loop over different gamma values to construct a tradeoff \n",
    "# curve\n",
    "\n",
    "# create arrays for storing results\n",
    "sq_penalty = [] # least-squares penalty\n",
    "l1_penalty = [] # l1 penalty\n",
    "x_nonzero = [] # nonzero terms\n",
    "x_linf_error = [] # l-inf error of learned x\n",
    "\n",
    "# create logarithimically spread out values of gamma to loop over\n",
    "gamma_vals = np.logspace(-4,6)\n",
    "\n",
    "# pythonically loop through gamma_vals\n",
    "for val in gamma_vals:\n",
    "    gamma.value = val\n",
    "    prob.solve()\n",
    "    # use expr.value to ge the numerical value of an expression\n",
    "    # in the problem\n",
    "    sq_penalty.append(least_squares.value)\n",
    "    l1_penalty.append(ell_one.value)\n",
    "    x_nonzero.append(np.count_nonzero(np.abs(x.value)>1e-4))\n",
    "    x_linf_error.append(np.linalg.norm(x.value-nonsparse_x,np.inf))\n",
    "\n",
    "# let's make some pictures now\n",
    "\n",
    "#formatting\n",
    "plt.rc('text', usetex = False)\n",
    "plt.rc('font', family = 'serif')\n",
    "plt.figure(figsize=(6,15))\n",
    "\n",
    "# Plot # nonzero elements of x vs. gamma.\n",
    "plt.subplot(312)\n",
    "plt.plot(gamma_vals, x_nonzero)\n",
    "plt.xlabel(r'$\\gamma$', fontsize=12)\n",
    "plt.ylabel(r'$\\mathrm{card}(x)$', fontsize=12)\n",
    "plt.xscale('log')\n",
    "plt.title(r'$\\mathrm{card}(x)$ vs. $\\gamma$', fontsize=12)\n",
    "\n",
    "\n",
    "\n",
    "# Plot l-inf error of x vs. gamma.\n",
    "plt.subplot(313)\n",
    "plt.plot(gamma_vals, x_linf_error)\n",
    "plt.xlabel(r'$\\gamma$', fontsize=12)\n",
    "plt.ylabel(r'$\\|x_\\star - x_{\\mathrm{true}}\\|_\\infty$', fontsize=12)\n",
    "plt.xscale('log')\n",
    "plt.title(r'Estimation error vs. $\\gamma$', fontsize=12)\n",
    "\n",
    "plt.tight_layout()\n",
    "plt.show()\n"
   ]
  },
  {
   "cell_type": "markdown",
   "metadata": {},
   "source": [
    "As you can see above, for $\\gamma \\in [10^-4,10^0]$, we recover the correct sparsity with $\\mathrm{card}(x_\\star)=5$ and $\\|x_\\star-x_{true}\\}\\|_\\infty \\approx 0$.  Then, for larger values, we are over penalizing sparsity, and get either an overly regularized value with correct sparity ($\\gamma = 10^1$), or a too sparse value $\\gamma \\geq 10^2$.  In comparison, the least squares estimate does much worse!"
   ]
  },
  {
   "cell_type": "code",
   "execution_count": 6,
   "metadata": {},
   "outputs": [],
   "source": [
    "# compute least squares solution\n",
    "gamma.value = 0\n",
    "prob.solve()\n",
    "\n",
    "ls_linf_error = np.linalg.norm(x.value-nonsparse_x,np.inf)\n",
    "ls_nonzero = np.count_nonzero(np.abs(x.value)>1e-4)\n",
    "print(\"has {} nonzero entries and {} l-inf error\".format(ls_nonzero,ls_linf_error))"
   ]
  },
  {
   "cell_type": "markdown",
   "metadata": {},
   "source": [
    "Think about what you just did here! Using convex optimization, you solved a linear inverse problem in _one hundred_ variables given only _40_ measurements. Play around with the above to see how sparse you can make the solution relative to the number of measurements you have by suitably varying ```k``` and ```m```.  If you want to find out _why_ this works, I recommend digging into the papers linked above. "
   ]
  },
  {
   "cell_type": "markdown",
   "metadata": {},
   "source": [
    "# Why you should use Python instead of Matlab\n",
    "\n",
    "Trade-off curves can easily be computed in parallel. The code below computes in parallel the optimal ```x``` for each ```𝛾``` in the LASSO problem above."
   ]
  },
  {
   "cell_type": "code",
   "execution_count": 94,
   "metadata": {},
   "outputs": [
    {
     "name": "stdout",
     "output_type": "stream",
     "text": [
      "elapsed time: 0.11208891868591309\n"
     ]
    }
   ],
   "source": [
    "from multiprocessing import Pool\n",
    "import time\n",
    "\n",
    "# Assign a value to gamma and find the optimal x.\n",
    "def get_x(gamma_value):\n",
    "    gamma.value = gamma_value\n",
    "    result = prob.solve()\n",
    "    return x.value\n",
    "\n",
    "# Parallel computation (set to 1 process here -- if you have multiple cores, try increasing by multiples of 2 and see how the elapsed time changes!).\n",
    "pool = Pool(processes = 16)\n",
    "start = time.time()\n",
    "x_values = pool.map(get_x, gamma_vals)\n",
    "print(\"elapsed time: {}\".format(time.time()-start))"
   ]
  },
  {
   "cell_type": "code",
   "execution_count": null,
   "metadata": {},
   "outputs": [],
   "source": []
  }
 ],
 "metadata": {
  "kernelspec": {
   "display_name": "Python 3",
   "language": "python",
   "name": "python3"
  },
  "language_info": {
   "codemirror_mode": {
    "name": "ipython",
    "version": 3
   },
   "file_extension": ".py",
   "mimetype": "text/x-python",
   "name": "python",
   "nbconvert_exporter": "python",
   "pygments_lexer": "ipython3",
   "version": "3.7.3"
  }
 },
 "nbformat": 4,
 "nbformat_minor": 4
}
