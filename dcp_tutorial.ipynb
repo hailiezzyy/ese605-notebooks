{
 "cells": [
  {
   "cell_type": "markdown",
   "metadata": {},
   "source": [
    "# Disciplined Convex Programming\n",
    "\n",
    "The following is adapted from the [CVXPY Disciplined Convex Programming](https://www.cvxpy.org/tutorial/dcp/index.html) tutorial and [Disciplined Convex Programming site](https://dcp.stanford.edu/)\n",
    "\n",
    "In addition to this notebook, you may want to read about the [DCP rules](https://dcp.stanford.edu/rules), try out the [DCP quiz](https://dcp.stanford.edu/quiz) to test your understanding, or type expressions into the [DCP Analyzer](https://dcp.stanford.edu/analyzer).\n",
    "\n",
    "More information on DCP can be found in the [paper](http://www.stanford.edu/~boyd/papers/disc_cvx_prog.html) by Michael Grant."
   ]
  },
  {
   "cell_type": "markdown",
   "metadata": {},
   "source": [
    "## What is DCP?\n",
    "\n",
    "Disciplined convex programming (DCP) is a system for constructing mathematical expressions with known curvature from a given library of base functions. CVXPY uses DCP to ensure that the specified optimization problems are convex.\n",
    "\n",
    "This notebook illustrates the rules of DCP and how they are applied by CVXPY."
   ]
  },
  {
   "cell_type": "markdown",
   "metadata": {},
   "source": [
    "## Expressions\n",
    "\n",
    "Expressions in CVXPY are formed from variables, parameters, numerical constants such as Python floats and Numpy matrices, the standard arithmetic operators ```+, -, *, /, @,``` and a library of [functions](https://www.cvxpy.org/tutorial/functions/index.html#functions). Here are some examples of CVXPY expressions:"
   ]
  },
  {
   "cell_type": "code",
   "execution_count": 3,
   "metadata": {},
   "outputs": [
    {
     "data": {
      "text/plain": [
       "Expression(CONVEX, NONNEGATIVE, ())"
      ]
     },
     "execution_count": 3,
     "metadata": {},
     "output_type": "execute_result"
    }
   ],
   "source": [
    "import cvxpy as cp\n",
    "\n",
    "# Create variables and parameters.\n",
    "x, y = cp.Variable(), cp.Variable()\n",
    "a, b = cp.Parameter(), cp.Parameter()\n",
    "\n",
    "# Examples of CVXPY expressions.\n",
    "3.69 + b/3\n",
    "x - 4*a\n",
    "cp.sqrt(x) - cp.minimum(y, x - a)\n",
    "cp.maximum(2.66 - cp.sqrt(y), cp.square(x + 2*y))"
   ]
  },
  {
   "cell_type": "markdown",
   "metadata": {},
   "source": [
    "Expressions can be scalars, vectors, or matrices. The dimensions of an expression are stored as ```expr.shape```. The total number of entries is given by ```expr.size```, while the number of dimensions is given by ```expr.ndim```. CVXPY will raise an exception if an expression is used in a way that doesn’t make sense given its dimensions, for example adding matrices of different size. The semantics for how shapes behave under arithmetic operations are the same as for NumPy ndarrays (except some broadcasting is banned)."
   ]
  },
  {
   "cell_type": "code",
   "execution_count": 4,
   "metadata": {},
   "outputs": [
    {
     "name": "stdout",
     "output_type": "stream",
     "text": [
      "dimensions of X: (5, 4)\n",
      "size of X: 20\n",
      "number of dimensions: 2\n",
      "dimensions of sum(X): ()\n",
      "dimensions of A @ X: (3, 4)\n",
      "Cannot broadcast dimensions  (3, 5) (5, 4)\n"
     ]
    }
   ],
   "source": [
    "import numpy as np\n",
    "\n",
    "X = cp.Variable((5, 4))\n",
    "A = np.ones((3, 5))\n",
    "\n",
    "# Use expr.shape to get the dimensions.\n",
    "print(\"dimensions of X:\", X.shape)\n",
    "print(\"size of X:\", X.size)\n",
    "print(\"number of dimensions:\", X.ndim)\n",
    "print(\"dimensions of sum(X):\", cp.sum(X).shape)\n",
    "print(\"dimensions of A @ X:\", (A @ X).shape)\n",
    "\n",
    "# ValueError raised for invalid dimensions.\n",
    "try:\n",
    "    A + X\n",
    "except ValueError as e:\n",
    "    print(e)"
   ]
  },
  {
   "cell_type": "markdown",
   "metadata": {},
   "source": [
    "## Sign and Curvature\n",
    "\n",
    "CVXPY uses DCP analysis to determine the sign and curvature of each expression.\n",
    "\n",
    "### Sign\n",
    "Each (sub)expression is flagged as positive (non-negative), negative (non-positive), zero, or unknown.\n",
    "\n",
    "The signs of larger expressions are determined from the signs of their subexpressions. For example, the sign of the expression ```expr1*expr2``` is\n",
    "\n",
    "- Zero if either expression has sign zero.\n",
    "- Positive if expr1 and expr2 have the same (known) sign.\n",
    "- Negative if expr1 and expr2 have opposite (known) signs.\n",
    "- Unknown if either expression has unknown sign.\n",
    "\n",
    "The sign given to an expression is always correct. But DCP sign analysis may flag an expression as unknown sign when the sign could be figured out through more complex analysis. For instance, ```x*x``` is positive but has unknown sign by the rules above.\n",
    "\n",
    "CVXPY determines the sign of constants by looking at their value. For scalar constants, this is straightforward. Vector and matrix constants with all positive (negative) entries are marked as positive (negative). Vector and matrix constants with both positive and negative entries are marked as unknown sign.\n",
    "\n",
    "The sign of an expression is stored as ```expr.sign```:"
   ]
  },
  {
   "cell_type": "code",
   "execution_count": 5,
   "metadata": {},
   "outputs": [
    {
     "name": "stdout",
     "output_type": "stream",
     "text": [
      "sign of x: UNKNOWN\n",
      "sign of a: NONPOSITIVE\n",
      "sign of square(x): NONNEGATIVE\n",
      "sign of c*a: UNKNOWN\n"
     ]
    }
   ],
   "source": [
    "x = cp.Variable()\n",
    "a = cp.Parameter(nonpos=True)\n",
    "c = np.array([1, -1])\n",
    "\n",
    "print(\"sign of x:\", x.sign)\n",
    "print(\"sign of a:\", a.sign)\n",
    "print(\"sign of square(x):\", cp.square(x).sign)\n",
    "print(\"sign of c*a:\", (c*a).sign)"
   ]
  },
  {
   "cell_type": "markdown",
   "metadata": {},
   "source": [
    "### Curvature\n",
    "\n",
    "Each (sub)expression is flagged as one of the following curvatures (with respect to its variables)\n",
    "\n",
    "| *Curvature* | *Meaning*   <div style=\"width:400px\"></div> |\n",
    "|:-------------|:---------------------------------------------------|\n",
    "|   constant  | $f(x)$ is independent of $x$                      |\n",
    "|   affine    | $f(\\theta x + (1-\\theta)x)=\\theta f(x) + (1-\\theta)f(y) \\ , \\forall x\\, y\\, \\,\\theta\\in[0,1]$|\n",
    "| convex | $f(\\theta x + (1-\\theta)x)\\leq\\theta f(x) + (1-\\theta)f(y) \\ , \\forall x\\, y\\, \\,\\theta\\in[0,1]$|\n",
    "| concave | $f(\\theta x + (1-\\theta)x)\\geq\\theta f(x) + (1-\\theta)f(y) \\ , \\forall x\\, y\\, \\,\\theta\\in[0,1]$|\n",
    "| unknown | DCP analysis cannot determine the curvature|\n",
    "\n",
    "using the curvature rules given below. As with sign analysis, the conclusion is always correct, but the simple analysis can flag expressions as unknown even when they are convex or concave. Note that any constant expression is also affine, and any affine expression is convex and concave."
   ]
  },
  {
   "cell_type": "markdown",
   "metadata": {},
   "source": [
    "### Curvature rules\n",
    "\n",
    "DCP analysis is based on applying a general composition theorem from convex analysis to each (sub)expression.  Note that this is precisely the result proved in exercise A2.2 of the [Additional Exercises](https://web.stanford.edu/~boyd/cvxbook/bv_cvxbook_extra_exercises.pdf).\n",
    "\n",
    "$f(\\mathrm{expr}_1,\\mathrm{expr}_2,\\dots,\\mathrm{expr}_n)$ is convex if $f$ is a convex function and for each $\\mathrm{expr}_i$ one of the following conditions holds:\n",
    "\n",
    "- $f$ is increasing in argument $i$ and $\\mathrm{expr}_i$ is convex.\n",
    "- $f$ is decreasing in argument $i$ and $\\mathrm{expr}_i$ is concave.\n",
    "- $\\mathrm{expr}_i$ is affine or constant.\n",
    "\n",
    "$f(\\mathrm{expr}_1,\\mathrm{expr}_2,\\dots,\\mathrm{expr}_n)$ is concave if $f$ is a convex function and for each $\\mathrm{expr}_i$ one of the following conditions holds:\n",
    "\n",
    "- $f$ is increasing in argument $i$ and $\\mathrm{expr}_i$ is concave.\n",
    "- $f$ is decreasing in argument $i$ and $\\mathrm{expr}_i$ is convex.\n",
    "- $\\mathrm{expr}_i$ is affine or constant.\n",
    "\n",
    "$f(\\mathrm{expr}_1,\\mathrm{expr}_2,\\dots,\\mathrm{expr}_n)$ is affine if $f$ is an affine function and each $\\mathrm{expr}_i$ is affine.\n",
    "\n",
    "If none of the three rules apply, the expression $f(\\mathrm{expr}_1,\\mathrm{expr}_2,\\dots,\\mathrm{expr}_n)$ is marked as having unknown curvature.\n",
    "\n",
    "Whether a function is increasing or decreasing in an argument may depend on the sign of the argument. For instance, square is increasing for positive arguments and decreasing for negative arguments.\n",
    "\n",
    "The curvature of an expression is stored as expr.curvature:"
   ]
  },
  {
   "cell_type": "code",
   "execution_count": 6,
   "metadata": {},
   "outputs": [
    {
     "name": "stdout",
     "output_type": "stream",
     "text": [
      "curvature of x: AFFINE\n",
      "curvature of a: CONSTANT\n",
      "curvature of square(x): CONVEX\n",
      "curvature of sqrt(x): CONCAVE\n"
     ]
    }
   ],
   "source": [
    "x = cp.Variable()\n",
    "a = cp.Parameter(nonneg=True)\n",
    "\n",
    "print(\"curvature of x:\", x.curvature)\n",
    "print(\"curvature of a:\", a.curvature)\n",
    "print(\"curvature of square(x):\", cp.square(x).curvature)\n",
    "print(\"curvature of sqrt(x):\", cp.sqrt(x).curvature)"
   ]
  },
  {
   "cell_type": "markdown",
   "metadata": {},
   "source": [
    "### Infix operators\n",
    "\n",
    "The infix operators ```+, -, *, /``` and matrix multiplication ```@``` are treated exactly like functions. The infix operators ```+``` and ```-``` are affine, so the rules above are used to flag the curvature. For example, ```expr1 + expr2``` is flagged as convex if ```expr1``` and ```expr2``` are convex.\n",
    "\n",
    "```expr1*expr2```, ```expr1/expr2```, and ```expr1@expr2``` can only be DCP when one of the expressions is constant. The curvature rules above apply. For example, ```expr1/expr2``` is convex when ```expr1``` is concave and ```expr2``` is negative and constant."
   ]
  },
  {
   "cell_type": "markdown",
   "metadata": {},
   "source": [
    "### Example 1\n",
    "\n",
    "DCP analysis breaks expressions down into subexpressions. The tree visualization below shows how this works for the expression ```2*square(x) + 3```. Each subexpression is shown in a blue box. We mark its curvature on the left and its sign on the right.\n",
    "\n",
    "![title](images/example1.png)"
   ]
  },
  {
   "cell_type": "markdown",
   "metadata": {},
   "source": [
    "### Example 2\n",
    "\n",
    "We’ll walk through the application of the DCP rules to the expression ```sqrt(1 + square(x))```.\n",
    "\n",
    "![title](images/example2.png)\n",
    "\n",
    "The variable ```x``` has affine curvature and unknown sign. The ```square function``` is convex and non-monotone for arguments of unknown sign. It can take the affine expression ```x``` as an argument; the result ```square(x)``` is convex.\n",
    "\n",
    "The arithmetic operator ```+``` is affine and increasing, so the composition ```1 + square(x)``` is convex by the curvature rule for convex functions. The function ```sqrt``` is concave and increasing, which means it can only take a concave argument. Since ```1 + square(x)``` is convex, ```sqrt(1 + square(x))``` violates the DCP rules and cannot be verified as convex.\n",
    "\n",
    "In fact, ```sqrt(1 + square(x))``` is a convex function of ```x```, but the DCP rules are not able to verify convexity. If the expression is written as ```norm(hstack(1, x), 2)```, the L2 norm of the vector ```[1,𝑥]```, which has the same value as ```sqrt(1 + square(x))```, then it will be certified as convex using the DCP rules."
   ]
  },
  {
   "cell_type": "code",
   "execution_count": 7,
   "metadata": {},
   "outputs": [
    {
     "name": "stdout",
     "output_type": "stream",
     "text": [
      "sqrt(1 + square(x)) curvature: QUASICONVEX\n",
      "norm(hstack([1, x]), 2) curvature: CONVEX\n"
     ]
    }
   ],
   "source": [
    "print(\"sqrt(1 + square(x)) curvature:\",\n",
    "      cp.sqrt(1 + cp.square(x)).curvature)\n",
    "print(\"norm(hstack([1, x]), 2) curvature:\",\n",
    "      cp.norm(cp.hstack([1, x]), 2).curvature)"
   ]
  },
  {
   "cell_type": "markdown",
   "metadata": {},
   "source": [
    "This is an important feature of DCP: even if your problem is convex, it may not be recognized by CVXPY as being so!  You will practice rewriting convex constraints that violate the DCP rule set into valid DCP constraints in Problem A3.3 in the [Additional Exercises](https://web.stanford.edu/~boyd/cvxbook/bv_cvxbook_extra_exercises.pdf). "
   ]
  },
  {
   "cell_type": "markdown",
   "metadata": {},
   "source": [
    "## DCP problems\n",
    "\n",
    "A problem is constructed from an objective and a list of constraints. If a problem follows the DCP rules, it is guaranteed to be convex and solvable by CVXPY. The DCP rules require that the problem objective have one of two forms:\n",
    "\n",
    "- Minimize(convex)\n",
    "- Maximize(concave)\n",
    "\n",
    "The only valid constraints under the DCP rules are\n",
    "\n",
    "- affine == affine\n",
    "- convex <= concave\n",
    "- concave >= convex\n",
    "\n",
    "You can check that a problem, constraint, or objective satisfies the DCP rules by calling ```object.is_dcp()```. Here are some examples of DCP and non-DCP problems:"
   ]
  },
  {
   "cell_type": "code",
   "execution_count": 11,
   "metadata": {},
   "outputs": [
    {
     "name": "stdout",
     "output_type": "stream",
     "text": [
      "prob1 is DCP: True\n",
      "prob2 is DCP: True\n",
      "prob3 is DCP: True\n",
      "(array(0.5), array(0.5))\n"
     ]
    }
   ],
   "source": [
    "x = cp.Variable()\n",
    "y = cp.Variable()\n",
    "\n",
    "# DCP problems.\n",
    "prob1 = cp.Problem(cp.Minimize(cp.square(x - y)),\n",
    "                    [x + y >= 0])\n",
    "prob2 = cp.Problem(cp.Maximize(cp.sqrt(x - y)),\n",
    "                [2*x - 3 == y,\n",
    "                 cp.square(x) <= 2])\n",
    "\n",
    "print(\"prob1 is DCP:\", prob1.is_dcp())\n",
    "print(\"prob2 is DCP:\", prob2.is_dcp())"
   ]
  },
  {
   "cell_type": "code",
   "execution_count": 18,
   "metadata": {},
   "outputs": [
    {
     "name": "stdout",
     "output_type": "stream",
     "text": [
      "prob3 is DCP: False\n",
      "Maximize(square(x)) is DCP: False\n",
      "prob4 is DCP: False\n",
      "sqrt(x) <= 2 is DCP: False\n"
     ]
    }
   ],
   "source": [
    "# Non-DCP problems.\n",
    "\n",
    "# A non-DCP objective.\n",
    "obj = cp.Maximize(cp.square(x))\n",
    "prob3 = cp.Problem(obj)\n",
    "\n",
    "print(\"prob3 is DCP:\", prob3.is_dcp())\n",
    "print(\"Maximize(square(x)) is DCP:\", obj.is_dcp())\n",
    "\n",
    "# A non-DCP constraint.\n",
    "prob4 = cp.Problem(cp.Minimize(cp.square(x)),\n",
    "                    [cp.sqrt(x) <= 2])\n",
    "\n",
    "print(\"prob4 is DCP:\", prob4.is_dcp())\n",
    "print(\"sqrt(x) <= 2 is DCP:\", (cp.sqrt(x) <= 2).is_dcp())"
   ]
  },
  {
   "cell_type": "markdown",
   "metadata": {},
   "source": [
    "CVXPY will raise an exception if you call ```problem.solve()``` on a non-DCP problem:"
   ]
  },
  {
   "cell_type": "code",
   "execution_count": 19,
   "metadata": {},
   "outputs": [
    {
     "name": "stdout",
     "output_type": "stream",
     "text": [
      "Problem does not follow DCP rules. Specifically:\n",
      "The objective is not DCP, even though each sub-expression is.\n",
      "You are trying to minimize a function that is concave.\n",
      "However, the problem does follow DQCP rules. Consider calling solve() with `qcp=True`.\n"
     ]
    }
   ],
   "source": [
    "# A non-DCP problem.\n",
    "prob = cp.Problem(cp.Minimize(cp.sqrt(x)))\n",
    "\n",
    "try:\n",
    "    prob.solve()\n",
    "except Exception as e:\n",
    "    print(e)"
   ]
  },
  {
   "cell_type": "code",
   "execution_count": null,
   "metadata": {},
   "outputs": [],
   "source": []
  }
 ],
 "metadata": {
  "kernelspec": {
   "display_name": "Python 3",
   "language": "python",
   "name": "python3"
  },
  "language_info": {
   "codemirror_mode": {
    "name": "ipython",
    "version": 3
   },
   "file_extension": ".py",
   "mimetype": "text/x-python",
   "name": "python",
   "nbconvert_exporter": "python",
   "pygments_lexer": "ipython3",
   "version": "3.7.3"
  }
 },
 "nbformat": 4,
 "nbformat_minor": 4
}
